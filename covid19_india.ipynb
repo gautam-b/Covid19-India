{
 "cells": [
  {
   "cell_type": "markdown",
   "metadata": {},
   "source": [
    "### Data Source:\n",
    "* https://api.covid19india.org/\n",
    "* https://api.covid19india.org/csv/"
   ]
  },
  {
   "cell_type": "code",
   "execution_count": null,
   "metadata": {},
   "outputs": [],
   "source": [
    "import pandas as pd\n",
    "import matplotlib.pyplot as plt"
   ]
  },
  {
   "cell_type": "code",
   "execution_count": null,
   "metadata": {},
   "outputs": [],
   "source": [
    "plt.style.use(\"seaborn\")\n",
    "plt.rcParams[\"figure.figsize\"] = (14, 5)"
   ]
  },
  {
   "cell_type": "code",
   "execution_count": null,
   "metadata": {},
   "outputs": [],
   "source": [
    "def get_daily_data():\n",
    "    url = \"https://api.covid19india.org/csv/latest/case_time_series.csv\"\n",
    "    df = pd.read_csv(url)\n",
    "    df['date'] = df.Date + '2020'\n",
    "    df.date = df.date.astype('datetime64')\n",
    "    df.pop('Date')\n",
    "    df = df.set_index('date')\n",
    "    return df"
   ]
  },
  {
   "cell_type": "code",
   "execution_count": null,
   "metadata": {},
   "outputs": [],
   "source": [
    "def state_wise_test_data():\n",
    "    url = 'https://api.covid19india.org/csv/latest/statewise_tested_numbers_data.csv'\n",
    "    df = pd.read_csv(url)\n",
    "    df['Updated On'] = pd.to_datetime(df['Updated On'], format='%d/%m/%Y')\n",
    "    test_rate = df[['Updated On', 'State', 'Total Tested', 'Positive']]\n",
    "    test_rate['positive_rate'] = test_rate['Positive'] / test_rate['Total Tested']\n",
    "    test_rate.State = test_rate.State.astype('category')\n",
    "    return test_rate"
   ]
  },
  {
   "cell_type": "code",
   "execution_count": null,
   "metadata": {},
   "outputs": [],
   "source": [
    "def icmr_test_data():\n",
    "    url = 'https://api.covid19india.org/csv/latest/tested_numbers_icmr_data.csv'\n",
    "    df = pd.read_csv(url, parse_dates=['Update Time Stamp'], index_col='Update Time Stamp')\n",
    "    return df"
   ]
  },
  {
   "cell_type": "code",
   "execution_count": null,
   "metadata": {},
   "outputs": [],
   "source": [
    "daily = get_daily_data()"
   ]
  },
  {
   "cell_type": "code",
   "execution_count": null,
   "metadata": {},
   "outputs": [],
   "source": [
    "daily.tail().T"
   ]
  },
  {
   "cell_type": "code",
   "execution_count": null,
   "metadata": {},
   "outputs": [],
   "source": [
    "daily['Daily Confirmed'].plot()"
   ]
  },
  {
   "cell_type": "code",
   "execution_count": null,
   "metadata": {},
   "outputs": [],
   "source": [
    "df = state_wise_test_data()"
   ]
  },
  {
   "cell_type": "code",
   "execution_count": null,
   "metadata": {},
   "outputs": [],
   "source": [
    "df.groupby(\"State\").agg(\"last\").sort_values(\"Positive\", ascending=False)"
   ]
  },
  {
   "cell_type": "code",
   "execution_count": null,
   "metadata": {},
   "outputs": [],
   "source": [
    "df.loc[df.State==\"Maharashtra\"].dropna(subset=[\"Positive\"]).set_index('Updated On').positive_rate.plot()"
   ]
  }
 ],
 "metadata": {
  "language_info": {
   "codemirror_mode": {
    "name": "ipython",
    "version": 3
   },
   "file_extension": ".py",
   "mimetype": "text/x-python",
   "name": "python",
   "nbconvert_exporter": "python",
   "pygments_lexer": "ipython3",
   "version": "3.7.7-final"
  },
  "orig_nbformat": 2,
  "kernelspec": {
   "name": "python3",
   "display_name": "Python 3"
  }
 },
 "nbformat": 4,
 "nbformat_minor": 2
}